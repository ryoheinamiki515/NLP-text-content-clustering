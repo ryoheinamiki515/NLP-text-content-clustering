{
 "cells": [
  {
   "cell_type": "markdown",
   "metadata": {},
   "source": [
    "# Notebook for doing some scratch work"
   ]
  },
  {
   "cell_type": "markdown",
   "metadata": {},
   "source": [
    "## Collecting Wikipedia articles"
   ]
  },
  {
   "cell_type": "code",
   "execution_count": 53,
   "metadata": {},
   "outputs": [
    {
     "name": "stdout",
     "output_type": "stream",
     "text": [
      "Machine learning\n",
      "Computer Science\n",
      "Data Science\n",
      "Artificial Intelligence\n",
      "Football\n",
      "Basketball\n",
      "Tennis\n",
      "American Football\n",
      "Baseball\n",
      "Raccoon\n",
      "Cat\n",
      "Lion\n",
      "Platypus\n",
      "Lizard\n",
      "Biochemistry\n",
      "Protein\n",
      "Nucleic acid double helix\n",
      "Hydrogen\n",
      "Enzyme\n"
     ]
    }
   ],
   "source": [
    "import wikipedia\n",
    "\n",
    "# using 3 distinct topics for testing\n",
    "some_wikipedia_articles = [\"Machine learning\", \"Computer Science\", \"Data Science\", \"Artificial Intelligence\",\n",
    "                           \"Football\", \"Basketball\", \"Tennis\", \"American Football\", \"Baseball\",\n",
    "                           \"Raccoon\", \"Cat\", \"Lion\", \"Platypus\", \"Lizard\",\n",
    "                           \"Biochemistry\", \"Protein\", \"Nucleic acid double helix\", \"Hydrogen\", \"Enzyme\"]\n",
    "\n",
    "SUMMARY_PATH = \"../data/wiki_data/summary/\"\n",
    "CONTENT_PATH = \"../data/wiki_data/content/\"\n",
    "\n",
    "# write to the data sources\n",
    "for article in some_wikipedia_articles:\n",
    "    file_topic = \"_\".join(article.split())\n",
    "    # Use summary of wikipedia articles as the data source\n",
    "    with open(SUMMARY_PATH+f\"{file_topic}.txt\", \"w\") as f:\n",
    "        f.write(wikipedia.page(article).summary)\n",
    "    # try with entire wiki page too\n",
    "    with open(CONTENT_PATH+f\"{file_topic}.txt\", \"w\") as f:\n",
    "        f.write(wikipedia.page(article).content)\n",
    "    print(article)"
   ]
  },
  {
   "cell_type": "markdown",
   "metadata": {},
   "source": [
    "## Read the data from the source and also note the file names"
   ]
  },
  {
   "cell_type": "code",
   "execution_count": 94,
   "metadata": {},
   "outputs": [],
   "source": [
    "import os\n",
    "\n",
    "(_, _, filenames) = next(os.walk(CONTENT_PATH))"
   ]
  },
  {
   "cell_type": "code",
   "execution_count": 102,
   "metadata": {},
   "outputs": [],
   "source": [
    "text_data = []\n",
    "labels = []\n",
    "for filename in filenames:\n",
    "    with open(CONTENT_PATH+filename, \"r\") as f:\n",
    "        text_data.append(\" \".join(f.readlines()))\n",
    "    labels.append(filename[:-4])"
   ]
  },
  {
   "cell_type": "markdown",
   "metadata": {},
   "source": [
    "## Cleaning up the text"
   ]
  },
  {
   "cell_type": "code",
   "execution_count": 129,
   "metadata": {},
   "outputs": [
    {
     "data": {
      "text/plain": [
       "'Proteins are large biomolecules, or macromolecules, consisting of one or more long chains of amino a'"
      ]
     },
     "execution_count": 129,
     "metadata": {},
     "output_type": "execute_result"
    }
   ],
   "source": [
    "example = text_data[0]\n",
    "\n",
    "example[:100]"
   ]
  },
  {
   "cell_type": "code",
   "execution_count": 130,
   "metadata": {},
   "outputs": [
    {
     "data": {
      "text/plain": [
       "'proteins are large biomolecules, or macromolecules, consisting of one or more long chains of amino a'"
      ]
     },
     "execution_count": 130,
     "metadata": {},
     "output_type": "execute_result"
    }
   ],
   "source": [
    "example = example.lower()\n",
    "\n",
    "example[:100]"
   ]
  },
  {
   "cell_type": "code",
   "execution_count": 131,
   "metadata": {},
   "outputs": [
    {
     "data": {
      "text/plain": [
       "'proteins are large biomolecules  or macromolecules  consisting of one or more long chains of amino a'"
      ]
     },
     "execution_count": 131,
     "metadata": {},
     "output_type": "execute_result"
    }
   ],
   "source": [
    "symbols = \"!\\\"#$%&()*+-./:;<=>?@[\\]^_`{|}~\\n,—'\"\n",
    "for x in symbols:\n",
    "    example = example.replace(x, ' ')\n",
    "\n",
    "example[:100]"
   ]
  },
  {
   "cell_type": "code",
   "execution_count": 132,
   "metadata": {},
   "outputs": [
    {
     "data": {
      "text/plain": [
       "'proteins large biomolecules macromolecules consisting one long chains amino acid residues proteins p'"
      ]
     },
     "execution_count": 132,
     "metadata": {},
     "output_type": "execute_result"
    }
   ],
   "source": [
    "from nltk.corpus import stopwords\n",
    "import nltk\n",
    "from nltk.tokenize import word_tokenize\n",
    "\n",
    "# nltk.download('stopwords')\n",
    "default_stop_words = stopwords.words('english')\n",
    "\n",
    "valid_words = [x for x in word_tokenize(example) if x not in default_stop_words and x.isalpha()]\n",
    "\" \".join(valid_words)[:100]"
   ]
  },
  {
   "cell_type": "code",
   "execution_count": 133,
   "metadata": {},
   "outputs": [
    {
     "data": {
      "text/plain": [
       "'protein larg biomolecul macromolecul consist one long chain amino acid residu protein perform vast a'"
      ]
     },
     "execution_count": 133,
     "metadata": {},
     "output_type": "execute_result"
    }
   ],
   "source": [
    "from nltk.stem import SnowballStemmer\n",
    "from nltk.stem import WordNetLemmatizer \n",
    "\n",
    "lemmatizer = WordNetLemmatizer()\n",
    "stemmer= SnowballStemmer(\"english\")\n",
    "\n",
    "stemmed_words = [stemmer.stem(x) for x in valid_words]\n",
    "\" \".join(stemmed_words)[:100]"
   ]
  },
  {
   "cell_type": "code",
   "execution_count": 134,
   "metadata": {},
   "outputs": [
    {
     "data": {
      "text/plain": [
       "'protein large biomolecules macromolecule consisting one long chain amino acid residue protein perfor'"
      ]
     },
     "execution_count": 134,
     "metadata": {},
     "output_type": "execute_result"
    }
   ],
   "source": [
    "lemmatized_words = [lemmatizer.lemmatize(x) for x in valid_words]\n",
    "\" \".join(lemmatized_words)[:100]"
   ]
  },
  {
   "cell_type": "code",
   "execution_count": 136,
   "metadata": {},
   "outputs": [
    {
     "data": {
      "text/plain": [
       "'protein larg biomolecul macromolecul consist one long chain amino acid residu protein perform vast a'"
      ]
     },
     "execution_count": 136,
     "metadata": {},
     "output_type": "execute_result"
    }
   ],
   "source": [
    "# looks safe to just lemmatize then stem\n",
    "stemmed_lemmatized_words = [stemmer.stem(lemmatizer.lemmatize(x)) for x in valid_words]\n",
    "\" \".join(stemmed_lemmatized_words)[:100]"
   ]
  },
  {
   "cell_type": "code",
   "execution_count": 137,
   "metadata": {},
   "outputs": [],
   "source": [
    "cleaned_text = \" \".join(stemmed_lemmatized_words)"
   ]
  },
  {
   "cell_type": "code",
   "execution_count": 138,
   "metadata": {},
   "outputs": [],
   "source": [
    "# now to do this in a for loop\n",
    "SYMBOLS = \"!\\\"#$%&()*+-./:;<=>?@[\\]^_`{|}~\\n,—'\"\n",
    "STOP_WORDS = stopwords.words('english')\n",
    "\n",
    "# we also want to keep track of the original and cleaned words so that they can be mapped back\n",
    "original_words = []\n",
    "changed_words = []\n",
    "data = []\n",
    "\n",
    "for text in text_data:\n",
    "    text = text.lower()\n",
    "    for symbol in SYMBOLS:\n",
    "        text = text.replace(symbol, ' ')\n",
    "    valid_words = [x for x in word_tokenize(text) if x not in STOP_WORDS and x.isalpha()]\n",
    "    stemmed_lemmatized_words = [stemmer.stem(lemmatizer.lemmatize(x)) for x in valid_words]\n",
    "    cleaned_text = \" \".join(stemmed_lemmatized_words)\n",
    "    original_words.extend(valid_words)\n",
    "    changed_words.extend(stemmed_lemmatized_words)\n",
    "    data.append(cleaned_text)"
   ]
  },
  {
   "cell_type": "code",
   "execution_count": 139,
   "metadata": {},
   "outputs": [],
   "source": [
    "# can't use dictionary because some stems have multiple original words: I will use pandas\n",
    "import pandas as pd\n",
    "\n",
    "changed_to_original = pd.Series(original_words, index=changed_words)"
   ]
  },
  {
   "cell_type": "markdown",
   "metadata": {},
   "source": [
    "## Tf-idf Vectorization"
   ]
  },
  {
   "cell_type": "code",
   "execution_count": 140,
   "metadata": {},
   "outputs": [],
   "source": [
    "from sklearn.feature_extraction.text import TfidfVectorizer"
   ]
  },
  {
   "cell_type": "code",
   "execution_count": 141,
   "metadata": {},
   "outputs": [],
   "source": [
    "vectorizer = TfidfVectorizer(max_df=0.8, min_df=0.2, stop_words='english', use_idf=True)\n",
    "vectors = vectorizer.fit_transform(data)\n",
    "feature_names = vectorizer.get_feature_names()\n",
    "dense = vectors.todense()\n",
    "denselist = dense.tolist()\n",
    "df = pd.DataFrame(denselist, columns=feature_names)"
   ]
  },
  {
   "cell_type": "code",
   "execution_count": 142,
   "metadata": {},
   "outputs": [
    {
     "data": {
      "text/html": [
       "<div>\n",
       "<style scoped>\n",
       "    .dataframe tbody tr th:only-of-type {\n",
       "        vertical-align: middle;\n",
       "    }\n",
       "\n",
       "    .dataframe tbody tr th {\n",
       "        vertical-align: top;\n",
       "    }\n",
       "\n",
       "    .dataframe thead th {\n",
       "        text-align: right;\n",
       "    }\n",
       "</style>\n",
       "<table border=\"1\" class=\"dataframe\">\n",
       "  <thead>\n",
       "    <tr style=\"text-align: right;\">\n",
       "      <th></th>\n",
       "      <th>abandon</th>\n",
       "      <th>abil</th>\n",
       "      <th>abl</th>\n",
       "      <th>abnorm</th>\n",
       "      <th>absenc</th>\n",
       "      <th>absorb</th>\n",
       "      <th>abstract</th>\n",
       "      <th>abund</th>\n",
       "      <th>academ</th>\n",
       "      <th>accept</th>\n",
       "      <th>...</th>\n",
       "      <th>written</th>\n",
       "      <th>wrong</th>\n",
       "      <th>wrote</th>\n",
       "      <th>yale</th>\n",
       "      <th>yield</th>\n",
       "      <th>york</th>\n",
       "      <th>young</th>\n",
       "      <th>youth</th>\n",
       "      <th>zealand</th>\n",
       "      <th>zone</th>\n",
       "    </tr>\n",
       "  </thead>\n",
       "  <tbody>\n",
       "    <tr>\n",
       "      <th>0</th>\n",
       "      <td>0.000000</td>\n",
       "      <td>0.010617</td>\n",
       "      <td>0.002517</td>\n",
       "      <td>0.004427</td>\n",
       "      <td>0.003336</td>\n",
       "      <td>0.000000</td>\n",
       "      <td>0.000000</td>\n",
       "      <td>0.003802</td>\n",
       "      <td>0.000000</td>\n",
       "      <td>0.000000</td>\n",
       "      <td>...</td>\n",
       "      <td>0.003802</td>\n",
       "      <td>0.000000</td>\n",
       "      <td>0.000000</td>\n",
       "      <td>0.000000</td>\n",
       "      <td>0.007110</td>\n",
       "      <td>0.000000</td>\n",
       "      <td>0.000000</td>\n",
       "      <td>0.000000</td>\n",
       "      <td>0.000000</td>\n",
       "      <td>0.000000</td>\n",
       "    </tr>\n",
       "    <tr>\n",
       "      <th>1</th>\n",
       "      <td>0.024916</td>\n",
       "      <td>0.019822</td>\n",
       "      <td>0.056386</td>\n",
       "      <td>0.011020</td>\n",
       "      <td>0.008305</td>\n",
       "      <td>0.000000</td>\n",
       "      <td>0.011020</td>\n",
       "      <td>0.018932</td>\n",
       "      <td>0.000000</td>\n",
       "      <td>0.008849</td>\n",
       "      <td>...</td>\n",
       "      <td>0.018932</td>\n",
       "      <td>0.000000</td>\n",
       "      <td>0.000000</td>\n",
       "      <td>0.000000</td>\n",
       "      <td>0.008849</td>\n",
       "      <td>0.007379</td>\n",
       "      <td>0.059466</td>\n",
       "      <td>0.000000</td>\n",
       "      <td>0.000000</td>\n",
       "      <td>0.000000</td>\n",
       "    </tr>\n",
       "    <tr>\n",
       "      <th>2</th>\n",
       "      <td>0.002924</td>\n",
       "      <td>0.000000</td>\n",
       "      <td>0.015442</td>\n",
       "      <td>0.000000</td>\n",
       "      <td>0.000000</td>\n",
       "      <td>0.002924</td>\n",
       "      <td>0.000000</td>\n",
       "      <td>0.000000</td>\n",
       "      <td>0.000000</td>\n",
       "      <td>0.000000</td>\n",
       "      <td>...</td>\n",
       "      <td>0.000000</td>\n",
       "      <td>0.000000</td>\n",
       "      <td>0.002598</td>\n",
       "      <td>0.000000</td>\n",
       "      <td>0.006232</td>\n",
       "      <td>0.005196</td>\n",
       "      <td>0.006980</td>\n",
       "      <td>0.007168</td>\n",
       "      <td>0.000000</td>\n",
       "      <td>0.000000</td>\n",
       "    </tr>\n",
       "    <tr>\n",
       "      <th>3</th>\n",
       "      <td>0.000000</td>\n",
       "      <td>0.000000</td>\n",
       "      <td>0.000000</td>\n",
       "      <td>0.000000</td>\n",
       "      <td>0.006993</td>\n",
       "      <td>0.003497</td>\n",
       "      <td>0.000000</td>\n",
       "      <td>0.023911</td>\n",
       "      <td>0.000000</td>\n",
       "      <td>0.000000</td>\n",
       "      <td>...</td>\n",
       "      <td>0.003985</td>\n",
       "      <td>0.000000</td>\n",
       "      <td>0.000000</td>\n",
       "      <td>0.000000</td>\n",
       "      <td>0.007451</td>\n",
       "      <td>0.006213</td>\n",
       "      <td>0.000000</td>\n",
       "      <td>0.000000</td>\n",
       "      <td>0.000000</td>\n",
       "      <td>0.000000</td>\n",
       "    </tr>\n",
       "    <tr>\n",
       "      <th>4</th>\n",
       "      <td>0.006506</td>\n",
       "      <td>0.000000</td>\n",
       "      <td>0.004908</td>\n",
       "      <td>0.000000</td>\n",
       "      <td>0.006506</td>\n",
       "      <td>0.000000</td>\n",
       "      <td>0.000000</td>\n",
       "      <td>0.014831</td>\n",
       "      <td>0.000000</td>\n",
       "      <td>0.000000</td>\n",
       "      <td>...</td>\n",
       "      <td>0.000000</td>\n",
       "      <td>0.000000</td>\n",
       "      <td>0.005780</td>\n",
       "      <td>0.000000</td>\n",
       "      <td>0.000000</td>\n",
       "      <td>0.000000</td>\n",
       "      <td>0.025880</td>\n",
       "      <td>0.000000</td>\n",
       "      <td>0.000000</td>\n",
       "      <td>0.014831</td>\n",
       "    </tr>\n",
       "    <tr>\n",
       "      <th>5</th>\n",
       "      <td>0.000000</td>\n",
       "      <td>0.000000</td>\n",
       "      <td>0.002281</td>\n",
       "      <td>0.000000</td>\n",
       "      <td>0.000000</td>\n",
       "      <td>0.000000</td>\n",
       "      <td>0.000000</td>\n",
       "      <td>0.000000</td>\n",
       "      <td>0.000000</td>\n",
       "      <td>0.000000</td>\n",
       "      <td>...</td>\n",
       "      <td>0.000000</td>\n",
       "      <td>0.000000</td>\n",
       "      <td>0.002687</td>\n",
       "      <td>0.020064</td>\n",
       "      <td>0.000000</td>\n",
       "      <td>0.013435</td>\n",
       "      <td>0.002406</td>\n",
       "      <td>0.018531</td>\n",
       "      <td>0.003447</td>\n",
       "      <td>0.034470</td>\n",
       "    </tr>\n",
       "    <tr>\n",
       "      <th>6</th>\n",
       "      <td>0.000000</td>\n",
       "      <td>0.009277</td>\n",
       "      <td>0.000000</td>\n",
       "      <td>0.000000</td>\n",
       "      <td>0.000000</td>\n",
       "      <td>0.011661</td>\n",
       "      <td>0.000000</td>\n",
       "      <td>0.013290</td>\n",
       "      <td>0.014290</td>\n",
       "      <td>0.000000</td>\n",
       "      <td>...</td>\n",
       "      <td>0.000000</td>\n",
       "      <td>0.000000</td>\n",
       "      <td>0.000000</td>\n",
       "      <td>0.000000</td>\n",
       "      <td>0.000000</td>\n",
       "      <td>0.010360</td>\n",
       "      <td>0.102043</td>\n",
       "      <td>0.000000</td>\n",
       "      <td>0.000000</td>\n",
       "      <td>0.013290</td>\n",
       "    </tr>\n",
       "    <tr>\n",
       "      <th>7</th>\n",
       "      <td>0.005622</td>\n",
       "      <td>0.026836</td>\n",
       "      <td>0.016964</td>\n",
       "      <td>0.003730</td>\n",
       "      <td>0.000000</td>\n",
       "      <td>0.000000</td>\n",
       "      <td>0.014919</td>\n",
       "      <td>0.000000</td>\n",
       "      <td>0.010335</td>\n",
       "      <td>0.008986</td>\n",
       "      <td>...</td>\n",
       "      <td>0.006408</td>\n",
       "      <td>0.003730</td>\n",
       "      <td>0.002497</td>\n",
       "      <td>0.000000</td>\n",
       "      <td>0.000000</td>\n",
       "      <td>0.002497</td>\n",
       "      <td>0.004473</td>\n",
       "      <td>0.000000</td>\n",
       "      <td>0.000000</td>\n",
       "      <td>0.000000</td>\n",
       "    </tr>\n",
       "    <tr>\n",
       "      <th>8</th>\n",
       "      <td>0.000000</td>\n",
       "      <td>0.000000</td>\n",
       "      <td>0.000000</td>\n",
       "      <td>0.000000</td>\n",
       "      <td>0.007045</td>\n",
       "      <td>0.014091</td>\n",
       "      <td>0.000000</td>\n",
       "      <td>0.000000</td>\n",
       "      <td>0.000000</td>\n",
       "      <td>0.000000</td>\n",
       "      <td>...</td>\n",
       "      <td>0.000000</td>\n",
       "      <td>0.000000</td>\n",
       "      <td>0.000000</td>\n",
       "      <td>0.000000</td>\n",
       "      <td>0.015014</td>\n",
       "      <td>0.000000</td>\n",
       "      <td>0.005605</td>\n",
       "      <td>0.000000</td>\n",
       "      <td>0.000000</td>\n",
       "      <td>0.000000</td>\n",
       "    </tr>\n",
       "    <tr>\n",
       "      <th>9</th>\n",
       "      <td>0.003432</td>\n",
       "      <td>0.008191</td>\n",
       "      <td>0.007767</td>\n",
       "      <td>0.004554</td>\n",
       "      <td>0.003432</td>\n",
       "      <td>0.000000</td>\n",
       "      <td>0.004554</td>\n",
       "      <td>0.000000</td>\n",
       "      <td>0.008411</td>\n",
       "      <td>0.000000</td>\n",
       "      <td>...</td>\n",
       "      <td>0.000000</td>\n",
       "      <td>0.004554</td>\n",
       "      <td>0.003049</td>\n",
       "      <td>0.000000</td>\n",
       "      <td>0.007314</td>\n",
       "      <td>0.000000</td>\n",
       "      <td>0.000000</td>\n",
       "      <td>0.000000</td>\n",
       "      <td>0.000000</td>\n",
       "      <td>0.000000</td>\n",
       "    </tr>\n",
       "    <tr>\n",
       "      <th>10</th>\n",
       "      <td>0.000000</td>\n",
       "      <td>0.010157</td>\n",
       "      <td>0.002408</td>\n",
       "      <td>0.000000</td>\n",
       "      <td>0.000000</td>\n",
       "      <td>0.009575</td>\n",
       "      <td>0.000000</td>\n",
       "      <td>0.000000</td>\n",
       "      <td>0.000000</td>\n",
       "      <td>0.003401</td>\n",
       "      <td>...</td>\n",
       "      <td>0.000000</td>\n",
       "      <td>0.000000</td>\n",
       "      <td>0.002836</td>\n",
       "      <td>0.000000</td>\n",
       "      <td>0.000000</td>\n",
       "      <td>0.000000</td>\n",
       "      <td>0.000000</td>\n",
       "      <td>0.000000</td>\n",
       "      <td>0.000000</td>\n",
       "      <td>0.000000</td>\n",
       "    </tr>\n",
       "    <tr>\n",
       "      <th>11</th>\n",
       "      <td>0.000000</td>\n",
       "      <td>0.000000</td>\n",
       "      <td>0.006625</td>\n",
       "      <td>0.000000</td>\n",
       "      <td>0.000000</td>\n",
       "      <td>0.000000</td>\n",
       "      <td>0.000000</td>\n",
       "      <td>0.000000</td>\n",
       "      <td>0.000000</td>\n",
       "      <td>0.000000</td>\n",
       "      <td>...</td>\n",
       "      <td>0.000000</td>\n",
       "      <td>0.000000</td>\n",
       "      <td>0.000000</td>\n",
       "      <td>0.000000</td>\n",
       "      <td>0.009358</td>\n",
       "      <td>0.000000</td>\n",
       "      <td>0.000000</td>\n",
       "      <td>0.000000</td>\n",
       "      <td>0.000000</td>\n",
       "      <td>0.000000</td>\n",
       "    </tr>\n",
       "    <tr>\n",
       "      <th>12</th>\n",
       "      <td>0.002860</td>\n",
       "      <td>0.009101</td>\n",
       "      <td>0.000000</td>\n",
       "      <td>0.000000</td>\n",
       "      <td>0.000000</td>\n",
       "      <td>0.000000</td>\n",
       "      <td>0.000000</td>\n",
       "      <td>0.003260</td>\n",
       "      <td>0.000000</td>\n",
       "      <td>0.000000</td>\n",
       "      <td>...</td>\n",
       "      <td>0.003260</td>\n",
       "      <td>0.000000</td>\n",
       "      <td>0.000000</td>\n",
       "      <td>0.000000</td>\n",
       "      <td>0.000000</td>\n",
       "      <td>0.000000</td>\n",
       "      <td>0.004550</td>\n",
       "      <td>0.000000</td>\n",
       "      <td>0.009779</td>\n",
       "      <td>0.000000</td>\n",
       "    </tr>\n",
       "    <tr>\n",
       "      <th>13</th>\n",
       "      <td>0.000000</td>\n",
       "      <td>0.000000</td>\n",
       "      <td>0.000000</td>\n",
       "      <td>0.000000</td>\n",
       "      <td>0.000000</td>\n",
       "      <td>0.000000</td>\n",
       "      <td>0.016516</td>\n",
       "      <td>0.000000</td>\n",
       "      <td>0.045762</td>\n",
       "      <td>0.004421</td>\n",
       "      <td>...</td>\n",
       "      <td>0.000000</td>\n",
       "      <td>0.000000</td>\n",
       "      <td>0.003686</td>\n",
       "      <td>0.000000</td>\n",
       "      <td>0.000000</td>\n",
       "      <td>0.003686</td>\n",
       "      <td>0.000000</td>\n",
       "      <td>0.000000</td>\n",
       "      <td>0.004729</td>\n",
       "      <td>0.000000</td>\n",
       "    </tr>\n",
       "    <tr>\n",
       "      <th>14</th>\n",
       "      <td>0.011393</td>\n",
       "      <td>0.045316</td>\n",
       "      <td>0.025781</td>\n",
       "      <td>0.000000</td>\n",
       "      <td>0.000000</td>\n",
       "      <td>0.000000</td>\n",
       "      <td>0.000000</td>\n",
       "      <td>0.000000</td>\n",
       "      <td>0.000000</td>\n",
       "      <td>0.012139</td>\n",
       "      <td>...</td>\n",
       "      <td>0.000000</td>\n",
       "      <td>0.000000</td>\n",
       "      <td>0.000000</td>\n",
       "      <td>0.000000</td>\n",
       "      <td>0.000000</td>\n",
       "      <td>0.040486</td>\n",
       "      <td>0.036253</td>\n",
       "      <td>0.000000</td>\n",
       "      <td>0.000000</td>\n",
       "      <td>0.000000</td>\n",
       "    </tr>\n",
       "    <tr>\n",
       "      <th>15</th>\n",
       "      <td>0.001953</td>\n",
       "      <td>0.001553</td>\n",
       "      <td>0.002946</td>\n",
       "      <td>0.000000</td>\n",
       "      <td>0.001953</td>\n",
       "      <td>0.001953</td>\n",
       "      <td>0.000000</td>\n",
       "      <td>0.000000</td>\n",
       "      <td>0.002393</td>\n",
       "      <td>0.002081</td>\n",
       "      <td>...</td>\n",
       "      <td>0.006677</td>\n",
       "      <td>0.000000</td>\n",
       "      <td>0.003470</td>\n",
       "      <td>0.012954</td>\n",
       "      <td>0.000000</td>\n",
       "      <td>0.000000</td>\n",
       "      <td>0.004660</td>\n",
       "      <td>0.009572</td>\n",
       "      <td>0.015579</td>\n",
       "      <td>0.002226</td>\n",
       "    </tr>\n",
       "    <tr>\n",
       "      <th>16</th>\n",
       "      <td>0.000000</td>\n",
       "      <td>0.001995</td>\n",
       "      <td>0.003783</td>\n",
       "      <td>0.000000</td>\n",
       "      <td>0.000000</td>\n",
       "      <td>0.002508</td>\n",
       "      <td>0.000000</td>\n",
       "      <td>0.000000</td>\n",
       "      <td>0.000000</td>\n",
       "      <td>0.000000</td>\n",
       "      <td>...</td>\n",
       "      <td>0.000000</td>\n",
       "      <td>0.003327</td>\n",
       "      <td>0.002228</td>\n",
       "      <td>0.003327</td>\n",
       "      <td>0.000000</td>\n",
       "      <td>0.008911</td>\n",
       "      <td>0.001995</td>\n",
       "      <td>0.012292</td>\n",
       "      <td>0.008574</td>\n",
       "      <td>0.011432</td>\n",
       "    </tr>\n",
       "    <tr>\n",
       "      <th>17</th>\n",
       "      <td>0.000000</td>\n",
       "      <td>0.001995</td>\n",
       "      <td>0.003783</td>\n",
       "      <td>0.000000</td>\n",
       "      <td>0.000000</td>\n",
       "      <td>0.002508</td>\n",
       "      <td>0.000000</td>\n",
       "      <td>0.000000</td>\n",
       "      <td>0.000000</td>\n",
       "      <td>0.000000</td>\n",
       "      <td>...</td>\n",
       "      <td>0.000000</td>\n",
       "      <td>0.003327</td>\n",
       "      <td>0.002228</td>\n",
       "      <td>0.003327</td>\n",
       "      <td>0.000000</td>\n",
       "      <td>0.008911</td>\n",
       "      <td>0.001995</td>\n",
       "      <td>0.012292</td>\n",
       "      <td>0.008574</td>\n",
       "      <td>0.011432</td>\n",
       "    </tr>\n",
       "    <tr>\n",
       "      <th>18</th>\n",
       "      <td>0.000000</td>\n",
       "      <td>0.004805</td>\n",
       "      <td>0.000000</td>\n",
       "      <td>0.000000</td>\n",
       "      <td>0.018121</td>\n",
       "      <td>0.000000</td>\n",
       "      <td>0.000000</td>\n",
       "      <td>0.000000</td>\n",
       "      <td>0.000000</td>\n",
       "      <td>0.006436</td>\n",
       "      <td>...</td>\n",
       "      <td>0.000000</td>\n",
       "      <td>0.000000</td>\n",
       "      <td>0.000000</td>\n",
       "      <td>0.000000</td>\n",
       "      <td>0.000000</td>\n",
       "      <td>0.000000</td>\n",
       "      <td>0.000000</td>\n",
       "      <td>0.000000</td>\n",
       "      <td>0.000000</td>\n",
       "      <td>0.000000</td>\n",
       "    </tr>\n",
       "  </tbody>\n",
       "</table>\n",
       "<p>19 rows × 1719 columns</p>\n",
       "</div>"
      ],
      "text/plain": [
       "     abandon      abil       abl    abnorm    absenc    absorb  abstract  \\\n",
       "0   0.000000  0.010617  0.002517  0.004427  0.003336  0.000000  0.000000   \n",
       "1   0.024916  0.019822  0.056386  0.011020  0.008305  0.000000  0.011020   \n",
       "2   0.002924  0.000000  0.015442  0.000000  0.000000  0.002924  0.000000   \n",
       "3   0.000000  0.000000  0.000000  0.000000  0.006993  0.003497  0.000000   \n",
       "4   0.006506  0.000000  0.004908  0.000000  0.006506  0.000000  0.000000   \n",
       "5   0.000000  0.000000  0.002281  0.000000  0.000000  0.000000  0.000000   \n",
       "6   0.000000  0.009277  0.000000  0.000000  0.000000  0.011661  0.000000   \n",
       "7   0.005622  0.026836  0.016964  0.003730  0.000000  0.000000  0.014919   \n",
       "8   0.000000  0.000000  0.000000  0.000000  0.007045  0.014091  0.000000   \n",
       "9   0.003432  0.008191  0.007767  0.004554  0.003432  0.000000  0.004554   \n",
       "10  0.000000  0.010157  0.002408  0.000000  0.000000  0.009575  0.000000   \n",
       "11  0.000000  0.000000  0.006625  0.000000  0.000000  0.000000  0.000000   \n",
       "12  0.002860  0.009101  0.000000  0.000000  0.000000  0.000000  0.000000   \n",
       "13  0.000000  0.000000  0.000000  0.000000  0.000000  0.000000  0.016516   \n",
       "14  0.011393  0.045316  0.025781  0.000000  0.000000  0.000000  0.000000   \n",
       "15  0.001953  0.001553  0.002946  0.000000  0.001953  0.001953  0.000000   \n",
       "16  0.000000  0.001995  0.003783  0.000000  0.000000  0.002508  0.000000   \n",
       "17  0.000000  0.001995  0.003783  0.000000  0.000000  0.002508  0.000000   \n",
       "18  0.000000  0.004805  0.000000  0.000000  0.018121  0.000000  0.000000   \n",
       "\n",
       "       abund    academ    accept  ...   written     wrong     wrote      yale  \\\n",
       "0   0.003802  0.000000  0.000000  ...  0.003802  0.000000  0.000000  0.000000   \n",
       "1   0.018932  0.000000  0.008849  ...  0.018932  0.000000  0.000000  0.000000   \n",
       "2   0.000000  0.000000  0.000000  ...  0.000000  0.000000  0.002598  0.000000   \n",
       "3   0.023911  0.000000  0.000000  ...  0.003985  0.000000  0.000000  0.000000   \n",
       "4   0.014831  0.000000  0.000000  ...  0.000000  0.000000  0.005780  0.000000   \n",
       "5   0.000000  0.000000  0.000000  ...  0.000000  0.000000  0.002687  0.020064   \n",
       "6   0.013290  0.014290  0.000000  ...  0.000000  0.000000  0.000000  0.000000   \n",
       "7   0.000000  0.010335  0.008986  ...  0.006408  0.003730  0.002497  0.000000   \n",
       "8   0.000000  0.000000  0.000000  ...  0.000000  0.000000  0.000000  0.000000   \n",
       "9   0.000000  0.008411  0.000000  ...  0.000000  0.004554  0.003049  0.000000   \n",
       "10  0.000000  0.000000  0.003401  ...  0.000000  0.000000  0.002836  0.000000   \n",
       "11  0.000000  0.000000  0.000000  ...  0.000000  0.000000  0.000000  0.000000   \n",
       "12  0.003260  0.000000  0.000000  ...  0.003260  0.000000  0.000000  0.000000   \n",
       "13  0.000000  0.045762  0.004421  ...  0.000000  0.000000  0.003686  0.000000   \n",
       "14  0.000000  0.000000  0.012139  ...  0.000000  0.000000  0.000000  0.000000   \n",
       "15  0.000000  0.002393  0.002081  ...  0.006677  0.000000  0.003470  0.012954   \n",
       "16  0.000000  0.000000  0.000000  ...  0.000000  0.003327  0.002228  0.003327   \n",
       "17  0.000000  0.000000  0.000000  ...  0.000000  0.003327  0.002228  0.003327   \n",
       "18  0.000000  0.000000  0.006436  ...  0.000000  0.000000  0.000000  0.000000   \n",
       "\n",
       "       yield      york     young     youth   zealand      zone  \n",
       "0   0.007110  0.000000  0.000000  0.000000  0.000000  0.000000  \n",
       "1   0.008849  0.007379  0.059466  0.000000  0.000000  0.000000  \n",
       "2   0.006232  0.005196  0.006980  0.007168  0.000000  0.000000  \n",
       "3   0.007451  0.006213  0.000000  0.000000  0.000000  0.000000  \n",
       "4   0.000000  0.000000  0.025880  0.000000  0.000000  0.014831  \n",
       "5   0.000000  0.013435  0.002406  0.018531  0.003447  0.034470  \n",
       "6   0.000000  0.010360  0.102043  0.000000  0.000000  0.013290  \n",
       "7   0.000000  0.002497  0.004473  0.000000  0.000000  0.000000  \n",
       "8   0.015014  0.000000  0.005605  0.000000  0.000000  0.000000  \n",
       "9   0.007314  0.000000  0.000000  0.000000  0.000000  0.000000  \n",
       "10  0.000000  0.000000  0.000000  0.000000  0.000000  0.000000  \n",
       "11  0.009358  0.000000  0.000000  0.000000  0.000000  0.000000  \n",
       "12  0.000000  0.000000  0.004550  0.000000  0.009779  0.000000  \n",
       "13  0.000000  0.003686  0.000000  0.000000  0.004729  0.000000  \n",
       "14  0.000000  0.040486  0.036253  0.000000  0.000000  0.000000  \n",
       "15  0.000000  0.000000  0.004660  0.009572  0.015579  0.002226  \n",
       "16  0.000000  0.008911  0.001995  0.012292  0.008574  0.011432  \n",
       "17  0.000000  0.008911  0.001995  0.012292  0.008574  0.011432  \n",
       "18  0.000000  0.000000  0.000000  0.000000  0.000000  0.000000  \n",
       "\n",
       "[19 rows x 1719 columns]"
      ]
     },
     "execution_count": 142,
     "metadata": {},
     "output_type": "execute_result"
    }
   ],
   "source": [
    "df"
   ]
  },
  {
   "cell_type": "markdown",
   "metadata": {},
   "source": [
    "## KMeans Clustering"
   ]
  },
  {
   "cell_type": "code",
   "execution_count": 143,
   "metadata": {},
   "outputs": [],
   "source": [
    "from sklearn.cluster import KMeans"
   ]
  },
  {
   "cell_type": "code",
   "execution_count": 144,
   "metadata": {},
   "outputs": [],
   "source": [
    "import numpy as np"
   ]
  },
  {
   "cell_type": "code",
   "execution_count": 145,
   "metadata": {},
   "outputs": [],
   "source": [
    "# want to find number of clusters first\n",
    "t = (df != 0).sum().sum()\n",
    "m, n = df.shape\n",
    "n_clusters = int(round((m*n)/t))"
   ]
  },
  {
   "cell_type": "code",
   "execution_count": 146,
   "metadata": {},
   "outputs": [
    {
     "data": {
      "text/plain": [
       "KMeans(n_clusters=4)"
      ]
     },
     "execution_count": 146,
     "metadata": {},
     "output_type": "execute_result"
    }
   ],
   "source": [
    "km = KMeans(n_clusters=4)\n",
    "km.fit(df)"
   ]
  },
  {
   "cell_type": "code",
   "execution_count": 147,
   "metadata": {},
   "outputs": [
    {
     "name": "stdout",
     "output_type": "stream",
     "text": [
      "Cluster #0: Artificial_Intelligence, Machine_learning, Data_Science, Computer_Science\n",
      "Prominent words: computational, computationally, computations, computing, computer, computers, computation, computed, compute, computationalism, computes, computics, computability, computable, data, machine, machines, science, sciences, learning, learn, learned, learnings, learns\n",
      "==============================\n",
      "\n",
      "Cluster #1: Tennis, American_Football, Football, Basketball, Baseball\n",
      "Prominent words: players, player, ball, balls, balles, football, footballers, footballs, basketball, game, games, gaming\n",
      "==============================\n",
      "\n",
      "Cluster #2: Raccoon, Lion, Platypus, Cat, Lizard\n",
      "Prominent words: species, cats, cat, males, male, females, female, prey, preying\n",
      "==============================\n",
      "\n",
      "Cluster #3: Protein, Hydrogen, Biochemistry, Enzyme, Nucleic_acid_double_helix\n",
      "Prominent words: enzymes, enzyme, proteins, protein, dna, hydrogen, hydrogenation, acid, acids, acidic\n",
      "==============================\n",
      "\n"
     ]
    }
   ],
   "source": [
    "# print results as well as the prominent words\n",
    "centers_ordered = km.cluster_centers_.argsort()[:, ::-1] \n",
    "for i in range(4):\n",
    "    indices = np.where(km.labels_ == i)[0]\n",
    "    cluster_labels = [labels[i] for i in indices]\n",
    "    print(f\"Cluster #{i}:\", \", \".join(cluster_labels))\n",
    "    prominent_words = changed_to_original.loc[df.columns[centers_ordered[i][:5]]].unique()\n",
    "    print(\"Prominent words:\", \", \".join(prominent_words))\n",
    "    print(\"==============================\\n\")"
   ]
  },
  {
   "cell_type": "code",
   "execution_count": 148,
   "metadata": {},
   "outputs": [],
   "source": [
    "test = df.copy()"
   ]
  },
  {
   "cell_type": "code",
   "execution_count": 152,
   "metadata": {},
   "outputs": [],
   "source": [
    "from sklearn.manifold import TSNE\n",
    "import matplotlib.pyplot as plt\n",
    "X_embedded = TSNE(n_components=2, perplexity=5).fit_transform(test)"
   ]
  },
  {
   "cell_type": "code",
   "execution_count": 153,
   "metadata": {},
   "outputs": [
    {
     "data": {
      "text/plain": [
       "<matplotlib.collections.PathCollection at 0x7ff7a9a23110>"
      ]
     },
     "execution_count": 153,
     "metadata": {},
     "output_type": "execute_result"
    },
    {
     "data": {
      "image/png": "[encoded data removed]",
      "text/plain": [
       "<Figure size 432x288 with 1 Axes>"
      ]
     },
     "metadata": {
      "needs_background": "light"
     },
     "output_type": "display_data"
    }
   ],
   "source": [
    "plt.scatter(X_embedded[:, 0], X_embedded[:, 1], c=km.labels_, cmap='viridis')"
   ]
  },
  {
   "cell_type": "code",
   "execution_count": 151,
   "metadata": {},
   "outputs": [],
   "source": []
  },
  {
   "cell_type": "code",
   "execution_count": null,
   "metadata": {},
   "outputs": [],
   "source": []
  }
 ],
 "metadata": {
  "kernelspec": {
   "display_name": "Python 3",
   "language": "python",
   "name": "python3"
  },
  "language_info": {
   "codemirror_mode": {
    "name": "ipython",
    "version": 3
   },
   "file_extension": ".py",
   "mimetype": "text/x-python",
   "name": "python",
   "nbconvert_exporter": "python",
   "pygments_lexer": "ipython3",
   "version": "3.7.7"
  }
 },
 "nbformat": 4,
 "nbformat_minor": 4
}
