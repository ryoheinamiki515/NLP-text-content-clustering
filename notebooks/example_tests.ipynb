{
 "cells": [
  {
   "cell_type": "code",
   "execution_count": 11,
   "metadata": {},
   "outputs": [
    {
     "name": "stdout",
     "output_type": "stream",
     "text": [
      "The autoreload extension is already loaded. To reload it, use:\n",
      "  %reload_ext autoreload\n"
     ]
    }
   ],
   "source": [
    "%load_ext autoreload\n",
    "%autoreload 2\n",
    "%aimport src"
   ]
  },
  {
   "cell_type": "code",
   "execution_count": 12,
   "metadata": {},
   "outputs": [],
   "source": [
    "from src.data import make_dataset"
   ]
  },
  {
   "cell_type": "code",
   "execution_count": 17,
   "metadata": {},
   "outputs": [
    {
     "name": "stdout",
     "output_type": "stream",
     "text": [
      "['Katarzynów, Lipsko County', 'Heishui Mohe', 'Essor-Préchotain', 'Wrzoski, Masovian Voivodeship', 'Georg Anton von Rodenstein']\n"
     ]
    }
   ],
   "source": [
    "text_data, labels = make_dataset.from_random_wiki(5, summary=False)"
   ]
  },
  {
   "cell_type": "code",
   "execution_count": 22,
   "metadata": {},
   "outputs": [],
   "source": [
    "clean_data, changed_to_original = make_dataset.clean_data(text_data)"
   ]
  },
  {
   "cell_type": "code",
   "execution_count": 23,
   "metadata": {},
   "outputs": [],
   "source": [
    "from src.models import train_model"
   ]
  },
  {
   "cell_type": "code",
   "execution_count": 34,
   "metadata": {},
   "outputs": [
    {
     "name": "stdout",
     "output_type": "stream",
     "text": [
      "Cluster #0: 2013_Denver_Outlaws_season, Tennis, Manitoba_Games, American_Football, 1995–96_Liechtenstein_Cup, 2006–07_WWHL_season, Vin_Hannaford, Thorold_Secondary_School, Essor-Préchotain, Football, Basketball, Baseball, American_Music_Awards_of_1976\n",
      "Prominent words: games, game, gaming, playing, played, plays, play, playfulness, playes, playe, teams, team, season, seasons, seasonal, seasonally, seasonality, seasoned, school, schools, schooling\n",
      "==============================\n",
      "\n",
      "Cluster #1: IBM, Dishman_Pharmaceuticals_and_Chemicals, Apple_Inc., Georg_Anton_von_Rodenstein, Google, Artificial_Intelligence, Machine_learning, Data_Science, Computer_Science\n",
      "Prominent words: company, companies, computer, computers, computing, computational, computationally, computations, computation, computed, compute, computationalism, computes, computics, computability, computable, data, learned, learning, learn, learns, learnings, became\n",
      "==============================\n",
      "\n",
      "Cluster #2: Magneto, Alcohol, Protein, Drug, Book, Hydrogen, 2017_Rugby_League_World_Cup_Group_D, Hand_sanitizer, Sequence_of_tenses, Biochemistry, Apple, Enzyme, Tsukiakari_no_Michishirube, Lizard, Nucleic_acid_double_helix\n",
      "Prominent words: use, using, used, useful, group, groups, grouped, grouping, structure, structural, structures, structured, form, formed, forms, forming, functional, functions, function, functioning, functionality, functionalism\n",
      "==============================\n",
      "\n",
      "Cluster #3: Rybie,_Greater_Poland_Voivodeship, Rumours_Tour, Stygionympha_vigilans, Katarzynów,_Lipsko_County, Apamea_maxima, Rhodactina, Wrzoski,_Masovian_Voivodeship\n",
      "Prominent words: km, east, south, north, families, family\n",
      "==============================\n",
      "\n",
      "Cluster #4: Full_Stop_(G.E.M._song), Fähnrich_(East_Germany), Television, Roger_Brereley, Al_Kharayej, Suwat_Woradilok, Amane, South_African_Class_MH_2-6-6-2, Winter, Raccoon, Hoopes-Cunningham_Mansion, Rock_Creek_Gold_Rush, Alex_Yam, Summer, Santa_Inés,_Bogotá, Two_Monkeys, Jean-Guy_Deschamps, Lion, Tbilisi_Medical_Academy, S._Hollis_Clayson, Platypus, National_Register_of_Historic_Places_listings_in_Burleson_County,_Texas, St_Afan's_Church,_Llanafan, MS_Parafly_Skyward, Mexico, Ghaghar_Burhi, Japan, Yagodinska_Cave, Korea, Cat, Food, Valgeir_Sigurðsson, Nicholas_Daniloff, Heishui_Mohe, Mogadore,_Ohio\n",
      "Prominent words: national, nationals, nations, nation, nationalized, nationalities, nationalism, nationality, year, years, yearly, also, two, days, day\n",
      "==============================\n",
      "\n"
     ]
    }
   ],
   "source": [
    "pipe = train_model.train_model(clean_data, labels, 5, show_results=True, changed_to_original=changed_to_original)"
   ]
  },
  {
   "cell_type": "code",
   "execution_count": 30,
   "metadata": {},
   "outputs": [
    {
     "data": {
      "text/plain": [
       "array([2, 0, 1, 0, 1, 0, 0, 3, 0, 4, 0, 0, 0, 1, 0, 2, 0, 0, 1, 2, 0, 3,\n",
       "       4, 0, 0, 1, 3, 2, 4, 0, 1, 2, 0, 2, 0, 0, 3, 2, 0, 1, 1, 2, 1, 0,\n",
       "       3, 4, 4, 3, 0, 1, 3, 0, 0, 1, 0, 0, 4, 0, 1, 1, 3, 1, 4, 0, 0, 1,\n",
       "       1, 4, 1, 1, 0, 0, 3, 0, 3, 0, 3, 4, 1], dtype=int32)"
      ]
     },
     "execution_count": 30,
     "metadata": {},
     "output_type": "execute_result"
    }
   ],
   "source": [
    "pipe[\"kmeans\"].labels_"
   ]
  },
  {
   "cell_type": "code",
   "execution_count": null,
   "metadata": {},
   "outputs": [],
   "source": []
  }
 ],
 "metadata": {
  "kernelspec": {
   "display_name": "Python 3",
   "language": "python",
   "name": "python3"
  },
  "language_info": {
   "codemirror_mode": {
    "name": "ipython",
    "version": 3
   },
   "file_extension": ".py",
   "mimetype": "text/x-python",
   "name": "python",
   "nbconvert_exporter": "python",
   "pygments_lexer": "ipython3",
   "version": "3.7.7"
  }
 },
 "nbformat": 4,
 "nbformat_minor": 4
}
