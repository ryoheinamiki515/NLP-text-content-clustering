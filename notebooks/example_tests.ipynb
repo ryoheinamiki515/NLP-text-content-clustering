{
 "cells": [
  {
   "cell_type": "code",
   "execution_count": 2,
   "metadata": {},
   "outputs": [
    {
     "name": "stdout",
     "output_type": "stream",
     "text": [
      "The autoreload extension is already loaded. To reload it, use:\n",
      "  %reload_ext autoreload\n"
     ]
    }
   ],
   "source": [
    "import os\n",
    "os.chdir(\"/Users/ryoheinamiki515/NLP-text-content-clustering\")\n",
    "\n",
    "%load_ext autoreload\n",
    "%autoreload 2\n",
    "%aimport src"
   ]
  },
  {
   "cell_type": "code",
   "execution_count": 3,
   "metadata": {},
   "outputs": [],
   "source": [
    "from src.data import make_dataset\n",
    "import numpy as np"
   ]
  },
  {
   "cell_type": "code",
   "execution_count": 4,
   "metadata": {},
   "outputs": [],
   "source": [
    "articles = [\n",
    "    \"Machine Learning\", \"Computer Science\", \"Statistics\", \"Mathematics\",\n",
    "    \"Blue\", \"Red\", \"Green\", \"Purple\",\n",
    "    \"Google\", \"Amazon (company)\", \"Facebook\", \"Microsoft\",\n",
    "    \"Korea\", \"Japan\", \"Mexico\", \"United States\",\n",
    "    \"Barack Obama\", \"Donald Trump\", \"Bill Clinton\", \"Hillary Clinton\",\n",
    "    \"Tennis\", \"Football\", \"American Football\", \"Basketball\", \"Baseball\"\n",
    "]"
   ]
  },
  {
   "cell_type": "code",
   "execution_count": 5,
   "metadata": {},
   "outputs": [],
   "source": [
    "import wikipedia"
   ]
  },
  {
   "cell_type": "code",
   "execution_count": 12,
   "metadata": {},
   "outputs": [
    {
     "name": "stderr",
     "output_type": "stream",
     "text": [
      "/Users/ryoheinamiki515/opt/anaconda3/lib/python3.7/site-packages/bs4/__init__.py:181: UserWarning: No parser was explicitly specified, so I'm using the best available HTML parser for this system (\"lxml\"). This usually isn't a problem, but if you run this code on another system, or in a different virtual environment, it may use a different parser and behave differently.\n",
      "\n",
      "The code that caused this warning is on line 193 of the file /Users/ryoheinamiki515/opt/anaconda3/lib/python3.7/runpy.py. To get rid of this warning, change code that looks like this:\n",
      "\n",
      " BeautifulSoup(YOUR_MARKUP})\n",
      "\n",
      "to this:\n",
      "\n",
      " BeautifulSoup(YOUR_MARKUP, \"lxml\")\n",
      "\n",
      "  markup_type=markup_type))\n"
     ]
    }
   ],
   "source": [
    "data = []\n",
    "for wiki in wikipedia.random(10):\n",
    "    try:\n",
    "        data.append(len(wikipedia.page(wiki).content))\n",
    "    except:\n",
    "        continue"
   ]
  },
  {
   "cell_type": "code",
   "execution_count": 13,
   "metadata": {},
   "outputs": [],
   "source": [
    "import matplotlib.pyplot as plt"
   ]
  },
  {
   "cell_type": "code",
   "execution_count": 14,
   "metadata": {},
   "outputs": [
    {
     "data": {
      "text/plain": [
       "(array([3., 2., 0., 0., 2., 0., 0., 0., 1., 1.]),\n",
       " array([ 213. ,  582.5,  952. , 1321.5, 1691. , 2060.5, 2430. , 2799.5,\n",
       "        3169. , 3538.5, 3908. ]),\n",
       " <a list of 10 Patch objects>)"
      ]
     },
     "execution_count": 14,
     "metadata": {},
     "output_type": "execute_result"
    },
    {
     "data": {
      "image/png": "[encoded data removed]",
      "text/plain": [
       "<Figure size 432x288 with 1 Axes>"
      ]
     },
     "metadata": {
      "needs_background": "light"
     },
     "output_type": "display_data"
    }
   ],
   "source": [
    "plt.hist(data)"
   ]
  },
  {
   "cell_type": "code",
   "execution_count": 12,
   "metadata": {},
   "outputs": [
    {
     "name": "stdout",
     "output_type": "stream",
     "text": [
      "['Machine Learning', 'Computer Science', 'Statistics', 'Mathematics', 'Blue', 'Red', 'Green', 'Purple', 'Google', 'Amazon (company)', 'Facebook', 'Microsoft', 'Korea', 'Japan', 'Mexico', 'United States', 'Barack Obama', 'Donald Trump', 'Bill Clinton', 'Hillary Clinton', 'Tennis', 'Football', 'American Football', 'Basketball', 'Baseball']\n"
     ]
    }
   ],
   "source": [
    "text_data, labels = make_dataset.from_wiki(articles, summary=False)"
   ]
  },
  {
   "cell_type": "code",
   "execution_count": 13,
   "metadata": {},
   "outputs": [],
   "source": [
    "clean_data, changed_to_original = make_dataset.clean_data(text_data)"
   ]
  },
  {
   "cell_type": "code",
   "execution_count": 14,
   "metadata": {},
   "outputs": [],
   "source": [
    "from src.models import train_model"
   ]
  },
  {
   "cell_type": "code",
   "execution_count": 15,
   "metadata": {},
   "outputs": [],
   "source": [
    "from sklearn.feature_extraction.text import TfidfVectorizer\n",
    "from sklearn.pipeline import Pipeline\n",
    "from sklearn.cluster import KMeans"
   ]
  },
  {
   "cell_type": "code",
   "execution_count": 16,
   "metadata": {},
   "outputs": [],
   "source": [
    "vectorizer = TfidfVectorizer()\n",
    "X = vectorizer.fit_transform(clean_data)"
   ]
  },
  {
   "cell_type": "code",
   "execution_count": 17,
   "metadata": {},
   "outputs": [],
   "source": [
    "from sklearn.manifold import TSNE\n",
    "import matplotlib.pyplot as plt\n",
    "X_embedded = TSNE(n_components=2, perplexity=8, n_iter=5000).fit_transform(X)"
   ]
  },
  {
   "cell_type": "code",
   "execution_count": 18,
   "metadata": {},
   "outputs": [
    {
     "data": {
      "text/plain": [
       "<matplotlib.collections.PathCollection at 0x7fb9ff1b4fd0>"
      ]
     },
     "execution_count": 18,
     "metadata": {},
     "output_type": "execute_result"
    },
    {
     "data": {
      "image/png": "[encoded data removed]",
      "text/plain": [
       "<Figure size 432x288 with 1 Axes>"
      ]
     },
     "metadata": {
      "needs_background": "light"
     },
     "output_type": "display_data"
    }
   ],
   "source": [
    "plt.scatter(X_embedded[:, 0], X_embedded[:, 1])"
   ]
  },
  {
   "cell_type": "code",
   "execution_count": 20,
   "metadata": {},
   "outputs": [],
   "source": [
    "kmeans = KMeans(n_clusters=6)\n",
    "\n",
    "kmeans.fit(X)"
   ]
  },
  {
   "cell_type": "code",
   "execution_count": 21,
   "metadata": {},
   "outputs": [
    {
     "name": "stdout",
     "output_type": "stream",
     "text": [
      "Cluster #0: Mathematics, Machine_Learning, Statistics, Computer_Science\n",
      "Prominent words: mathematics, mathematical, mathematic, mathematically, computation, computer, computations, computability, computational, computers, computing, compute, computes, computationally, computed, computics, computable, statistics, statistical, statistically, statistic, learning, learn, learned, learns, data\n",
      "==============================\n",
      "\n",
      "Cluster #1: Tennis, American_Football, Football, Basketball, Baseball\n",
      "Prominent words: ball, balls, balles, players, player, football, footballers, footballs, basketball, play, playing, plays, played, playfulness, playes, playe\n",
      "==============================\n",
      "\n",
      "Cluster #2: Donald_Trump, Barack_Obama, Bill_Clinton, Hillary_Clinton\n",
      "Prominent words: clinton, clintons, obama, obamas, trump, trumped, president, presidency, presidents, presided, presiding, preside, elected, election, elections, elective, elect, electing\n",
      "==============================\n",
      "\n",
      "Cluster #3: Mexico, Japan, United_States, Korea\n",
      "Prominent words: japan, japanization, mexico, state, states, stated, stating, stately, korean, koreans, korea, koreas\n",
      "==============================\n",
      "\n",
      "Cluster #4: Microsoft, Amazon_(company), Google, Facebook\n",
      "Prominent words: google, googl, amazon, microsoft, facebook, facebooks, user, users\n",
      "==============================\n",
      "\n",
      "Cluster #5: Blue, Red, Purple, Green\n",
      "Prominent words: color, colors, colored, coloring, colorant, colorants, colorations, coloration, colorful, colorings, blue, blues, red, redness, reds, purple, purples, green, greens, greenness\n",
      "==============================\n",
      "\n"
     ]
    }
   ],
   "source": [
    "centers_ordered = kmeans.cluster_centers_.argsort()[:, ::-1] \n",
    "for i in range(kmeans.n_clusters):\n",
    "    indices = np.where(kmeans.labels_ == i)[0]\n",
    "    cluster_labels = [labels[i] for i in indices]\n",
    "    print(f\"Cluster #{i}:\", \", \".join(cluster_labels))\n",
    "    prominent_words = changed_to_original.loc[np.array(vectorizer.get_feature_names())[centers_ordered[i][:5]]].unique()\n",
    "    print(\"Prominent words:\", \", \".join(prominent_words))\n",
    "    print(\"==============================\\n\")"
   ]
  },
  {
   "cell_type": "code",
   "execution_count": 22,
   "metadata": {},
   "outputs": [
    {
     "data": {
      "image/png": "[encoded data removed]",
      "text/plain": [
       "<Figure size 1440x720 with 1 Axes>"
      ]
     },
     "metadata": {
      "needs_background": "light"
     },
     "output_type": "display_data"
    }
   ],
   "source": [
    "fig, ax = plt.subplots(figsize=(20, 10))\n",
    "ax.scatter(X_embedded[:, 0], X_embedded[:, 1], c=kmeans.labels_, cmap='viridis')\n",
    "for i, txt in enumerate(labels):\n",
    "    ax.annotate(txt, (X_embedded[:, 0][i], X_embedded[:, 1][i]))"
   ]
  },
  {
   "cell_type": "code",
   "execution_count": 30,
   "metadata": {},
   "outputs": [],
   "source": [
    "fig.savefig(\"./reports/cluster_plot.png\")"
   ]
  },
  {
   "cell_type": "code",
   "execution_count": null,
   "metadata": {},
   "outputs": [],
   "source": []
  }
 ],
 "metadata": {
  "kernelspec": {
   "display_name": "Python 3",
   "language": "python",
   "name": "python3"
  },
  "language_info": {
   "codemirror_mode": {
    "name": "ipython",
    "version": 3
   },
   "file_extension": ".py",
   "mimetype": "text/x-python",
   "name": "python",
   "nbconvert_exporter": "python",
   "pygments_lexer": "ipython3",
   "version": "3.7.7"
  }
 },
 "nbformat": 4,
 "nbformat_minor": 4
}
